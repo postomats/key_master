{
 "cells": [
  {
   "cell_type": "code",
   "execution_count": null,
   "metadata": {},
   "outputs": [
    {
     "ename": "",
     "evalue": "",
     "output_type": "error",
     "traceback": [
      "\u001b[1;31mFailed to start the Kernel. \n",
      "\u001b[1;31mKernel Python 3 (ipykernel) is not usable. Check the Jupyter output tab for more information. \n",
      "\u001b[1;31mView Jupyter <a href='command:jupyter.viewOutput'>log</a> for further details."
     ]
    }
   ],
   "source": [
    "from serial import Serial\n",
    "import serial\n",
    "import time\n",
    "# Функция для отправки команды на RS485\n",
    "def send_command(command, data_field):\n",
    "    ser = Serial(\n",
    "        port='/dev/ttyUSB0',\n",
    "        baudrate=9600,\n",
    "        parity=serial.PARITY_NONE,\n",
    "        stopbits=serial.STOPBITS_ONE,\n",
    "        bytesize=serial.EIGHTBITS,\n",
    "        timeout=0\n",
    "    )\n",
    "\n",
    "    # Создание кадра данных\n",
    "    start_character = [0x57, 0x4B, 0x4C, 0x59]  # Starter \"WKLY\"\n",
    "    frame_length = 0x08 + len(data_field)\n",
    "    board_number = 0x00\n",
    "    instruction_word = command\n",
    "    \n",
    "    checksum = 0\n",
    "    for byte in start_character + [frame_length, board_number, instruction_word] + data_field:\n",
    "        checksum ^= byte\n",
    "    print(checksum)\n",
    "    # Отправка кадра данных\n",
    "    frame = start_character + [frame_length, board_number, instruction_word] + data_field + [checksum]\n",
    "    print(frame)\n",
    "    ser.write(bytearray(frame))\n",
    "    response = ser.read(10)  # Ожидаем 7 байт ответа\n",
    "    print(\"Response:\", response)\n",
    "    ser.close()\n",
    "\n",
    "# Открытие всех замков каналов\n",
    "send_command(0x87, [0x01])  # Instruction word для открытия всех замков каналов"
   ]
  },
  {
   "cell_type": "code",
   "execution_count": 1,
   "metadata": {},
   "outputs": [
    {
     "name": "stdout",
     "output_type": "stream",
     "text": [
      "Collecting pyserial\n",
      "  Downloading pyserial-3.5-py2.py3-none-any.whl (90 kB)\n",
      "\u001b[2K     \u001b[90m━━━━━━━━━━━━━━━━━━━━━━━━━━━━━━━━━━━━━━━\u001b[0m \u001b[32m90.6/90.6 kB\u001b[0m \u001b[31m208.9 kB/s\u001b[0m eta \u001b[36m0:00:00\u001b[0ma \u001b[36m0:00:01\u001b[0m\n",
      "\u001b[?25hInstalling collected packages: pyserial\n",
      "Successfully installed pyserial-3.5\n",
      "Note: you may need to restart the kernel to use updated packages.\n"
     ]
    }
   ],
   "source": []
  },
  {
   "cell_type": "code",
   "execution_count": null,
   "metadata": {},
   "outputs": [],
   "source": []
  }
 ],
 "metadata": {
  "kernelspec": {
   "display_name": "Python 3 (ipykernel)",
   "language": "python",
   "name": "python3"
  }
 },
 "nbformat": 4,
 "nbformat_minor": 2
}
